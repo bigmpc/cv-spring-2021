{
 "cells": [
  {
   "cell_type": "markdown",
   "id": "sacred-shield",
   "metadata": {},
   "source": [
    "# topics:\n",
    "- [Contours](#Contours)\n",
    "- [Detector](#Detector)\n",
    "----\n",
    "slide 5\n"
   ]
  },
  {
   "cell_type": "code",
   "execution_count": 1,
   "id": "aggregate-internet",
   "metadata": {},
   "outputs": [],
   "source": [
    "import cv2  \n",
    "import numpy as np\n",
    "import matplotlib.pyplot as plt\n",
    "from matplotlib.pyplot import figure"
   ]
  },
  {
   "cell_type": "markdown",
   "id": "pediatric-smoke",
   "metadata": {},
   "source": [
    "# Contours"
   ]
  },
  {
   "cell_type": "code",
   "execution_count": 4,
   "id": "egyptian-sally",
   "metadata": {},
   "outputs": [
    {
     "data": {
      "image/png": "[encoded data removed]",
      "text/plain": [
       "<Figure size 432x288 with 1 Axes>"
      ]
     },
     "metadata": {
      "needs_background": "light"
     },
     "output_type": "display_data"
    }
   ],
   "source": [
    "im = cv2.imread('session_11/contours.jpg' , 0)\n",
    "ret, thresh = cv2.threshold(im, 127, 255, 0)\n",
    "plt.imshow(thresh, cmap='gray')\n",
    "plt.show()\n",
    "# cv2.imshow('thresh',thresh)\n",
    "\n",
    "# cv2.waitKey(0)\n",
    "# cv2.destroyAllWindows()"
   ]
  },
  {
   "cell_type": "code",
   "execution_count": 5,
   "id": "widespread-container",
   "metadata": {},
   "outputs": [
    {
     "data": {
      "image/png": "[encoded data removed]",
      "text/plain": [
       "<Figure size 432x288 with 1 Axes>"
      ]
     },
     "metadata": {
      "needs_background": "light"
     },
     "output_type": "display_data"
    },
    {
     "data": {
      "text/plain": [
       "array([[[ 1, -1, -1, -1],\n",
       "        [-1,  0,  2, -1],\n",
       "        [ 3, -1, -1,  1],\n",
       "        [ 4,  2, -1,  1],\n",
       "        [-1,  3, -1,  1]]], dtype=int32)"
      ]
     },
     "execution_count": 5,
     "metadata": {},
     "output_type": "execute_result"
    }
   ],
   "source": [
    "\n",
    "contours,hierarchy= cv2.findContours(thresh, cv2.RETR_TREE,\n",
    "                             cv2.CHAIN_APPROX_SIMPLE)\n",
    "\n",
    "# drawing all contours\n",
    "cv2.drawContours(im, contours, -1, (0,255,0), 3)\n",
    "# cv2.imshow('all contours',im)\n",
    "plt.imshow(im, cmap='gray')\n",
    "plt.show()\n",
    "image_internal = np.zeros(im.shape, im.dtype)\n",
    "image_external = np.zeros(im.shape, im.dtype) \n",
    "hierarchy"
   ]
  },
  {
   "cell_type": "code",
   "execution_count": null,
   "id": "native-dutch",
   "metadata": {},
   "outputs": [],
   "source": [
    "\n",
    "# drawing external contours and fill internal contours\n",
    "for i in range(len(contours)):\n",
    "     # have parent then is internal\n",
    "     if hierarchy[0][i][3] >= 0:\n",
    "         cv2.drawContours(image_internal, [contours[i]], 0, (255,0,0), -1)\n",
    "     else:\n",
    "         cv2.drawContours(image_external, [contours[i]], 0, (255,0,0), 3)\n",
    "\n",
    "cv2.imshow('external',image_external)\n",
    "cv2.imshow('internal',image_internal)\n",
    "cv2.waitKey(0)\n",
    "cv2.destroyAllWindows()\n"
   ]
  },
  {
   "cell_type": "markdown",
   "id": "stable-longitude",
   "metadata": {},
   "source": [
    "# Detector"
   ]
  },
  {
   "cell_type": "code",
   "execution_count": 6,
   "id": "understood-hunter",
   "metadata": {
    "scrolled": true
   },
   "outputs": [],
   "source": [
    "\n",
    "cap = cv2.VideoCapture(2)\n",
    "\n",
    "# initialize a black canvas\n",
    "\n",
    "\n",
    "\n",
    "# use this to capture a histogram\n",
    "while True:\n",
    "    _, frame = cap.read()\n",
    "    frame = cv2.flip(frame, 1)\n",
    "    frame = cv2.resize(frame, (1000, 600))\n",
    "\n",
    "    font = cv2.FONT_HERSHEY_SIMPLEX\n",
    "    cv2.putText(frame, 'Place region of interest inside box & press `A`',(5, 50), font, 0.7, (255, 255, 255), 2, cv2.LINE_AA)\n",
    "    cv2.rectangle(frame, (500, 100), (700, 300), (105, 105, 105), 2)\n",
    "    box = frame[100:300, 500:700]\n",
    "\n",
    "    cv2.imshow(\"Capture Histogram\", frame)\n",
    "    key = cv2.waitKey(10)\n",
    "    if key == ord('a'):\n",
    "        object_color = box\n",
    "        cv2.destroyAllWindows()\n",
    "        break\n",
    "    if key == ord('q'):\n",
    "        cv2.destroyAllWindows()\n",
    "        cap.release()\n",
    "        break\n",
    "\n",
    "object_color_hsv = cv2.cvtColor(object_color, cv2.COLOR_BGR2HSV)\n",
    "object_hist      = cv2.calcHist([object_color_hsv], [0, 1], None,[180, 256], [0, 180, 0, 256])\n",
    "\n",
    "cv2.normalize(object_hist, object_hist, 0, 255, cv2.NORM_MINMAX)\n",
    "\n",
    "\n",
    "# detect histogram\n",
    "while True:\n",
    "    ret, frame = cap.read()\n",
    "    if not ret:\n",
    "        break\n",
    "\n",
    "    # flip and resize the image.\n",
    "    frame = cv2.flip(frame, 1)\n",
    "\n",
    "    \n",
    "\n",
    "    hsv_frame = cv2.cvtColor(frame, cv2.COLOR_BGR2HSV)\n",
    "\n",
    "    # apply back projection to image using object_hist as\n",
    "    # the model histogram\n",
    "    object_segment = cv2.calcBackProject([hsv_frame], [0, 1], object_hist, [0, 180, 0, 256], 255)\n",
    "    cv2.imshow(\"d\", object_segment)\n",
    "    #_, segment_thresh = cv2.threshold(object_segment, 10, 255, cv2.THRESH_BINARY)\n",
    "\n",
    "    # apply some image operations to enhance image\n",
    "    kernel = None\n",
    "    disc = cv2.getStructuringElement(cv2.MORPH_ELLIPSE, (15, 15))\n",
    "\n",
    "    closing = cv2.morphologyEx(object_segment, cv2.MORPH_OPEN, kernel)\n",
    "    detected_hand = cv2.morphologyEx(closing, cv2.MORPH_CLOSE, kernel)\n",
    "    detected_hand=cv2.GaussianBlur(detected_hand,(15,15),0)\n",
    "    _, detected_hand = cv2.threshold(detected_hand, 10, 255, cv2.THRESH_BINARY)\n",
    "\n",
    "    cv2.imshow(\"detected_hand\", detected_hand)\n",
    "\n",
    "    # find the contours\n",
    "    contours, _ = cv2.findContours(detected_hand, cv2.RETR_TREE, cv2.CHAIN_APPROX_SIMPLE)\n",
    "    palm_area = 0\n",
    "    flag = None\n",
    "    cnt = None\n",
    "\n",
    "    # find the largest contour\n",
    "    for i in range(len(contours)):\n",
    "        c=contours[i]\n",
    "        area = cv2.contourArea(c)\n",
    "        if area > palm_area:\n",
    "            palm_area = area\n",
    "            flag = i\n",
    "\n",
    "    if flag is not None and palm_area > 1000:\n",
    "        cv2.drawContours(frame, [contours[flag]], 0, (0, 255, 0), 2)\n",
    "        \n",
    "    \n",
    "    cv2.imshow(\"Detector\", frame)\n",
    "\n",
    "    k = cv2.waitKey(5)\n",
    "    if k == ord('q'):\n",
    "        break"
   ]
  }
 ],
 "metadata": {
  "kernelspec": {
   "display_name": "Python 3",
   "language": "python",
   "name": "python3"
  },
  "language_info": {
   "codemirror_mode": {
    "name": "ipython",
    "version": 3
   },
   "file_extension": ".py",
   "mimetype": "text/x-python",
   "name": "python",
   "nbconvert_exporter": "python",
   "pygments_lexer": "ipython3",
   "version": "3.8.5"
  }
 },
 "nbformat": 4,
 "nbformat_minor": 5
}
