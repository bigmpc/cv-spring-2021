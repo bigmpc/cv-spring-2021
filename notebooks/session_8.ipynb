{
 "cells": [
  {
   "cell_type": "markdown",
   "id": "intermediate-executive",
   "metadata": {},
   "source": [
    "# topics:\n",
    "- [cv2.morphologyEx](#cv2.morphologyEx)\n",
    "  \n",
    "    - [Morphological Transformations docs](https://opencv-python-tutroals.readthedocs.io/en/latest/py_tutorials/py_imgproc/py_morphological_ops/py_morphological_ops.html)\n",
    "\n",
    "\n",
    "\n",
    "----\n",
    "slide 4\n"
   ]
  },
  {
   "cell_type": "code",
   "execution_count": 12,
   "id": "female-taylor",
   "metadata": {},
   "outputs": [],
   "source": [
    "import cv2  \n",
    "import numpy as np\n",
    "import matplotlib.pyplot as plt\n",
    "from matplotlib.pyplot import figure"
   ]
  },
  {
   "cell_type": "markdown",
   "id": "following-roman",
   "metadata": {},
   "source": [
    "# cv2.morphologyEx"
   ]
  },
  {
   "cell_type": "code",
   "execution_count": 4,
   "id": "terminal-colleague",
   "metadata": {},
   "outputs": [
    {
     "ename": "NameError",
     "evalue": "name 'cv2' is not defined",
     "output_type": "error",
     "traceback": [
      "\u001b[0;31m---------------------------------------------------------------------------\u001b[0m",
      "\u001b[0;31mNameError\u001b[0m                                 Traceback (most recent call last)",
      "\u001b[0;32m<ipython-input-4-6e36eeb588d4>\u001b[0m in \u001b[0;36m<module>\u001b[0;34m\u001b[0m\n\u001b[0;32m----> 1\u001b[0;31m \u001b[0mimg\u001b[0m \u001b[0;34m=\u001b[0m \u001b[0mcv2\u001b[0m\u001b[0;34m.\u001b[0m\u001b[0mimread\u001b[0m\u001b[0;34m(\u001b[0m\u001b[0;34m'session_8/test.png'\u001b[0m\u001b[0;34m,\u001b[0m\u001b[0;36m0\u001b[0m\u001b[0;34m)\u001b[0m\u001b[0;34m\u001b[0m\u001b[0;34m\u001b[0m\u001b[0m\n\u001b[0m\u001b[1;32m      2\u001b[0m \u001b[0mkernel\u001b[0m \u001b[0;34m=\u001b[0m \u001b[0mnp\u001b[0m\u001b[0;34m.\u001b[0m\u001b[0mones\u001b[0m\u001b[0;34m(\u001b[0m\u001b[0;34m(\u001b[0m\u001b[0;36m7\u001b[0m\u001b[0;34m,\u001b[0m\u001b[0;36m7\u001b[0m\u001b[0;34m)\u001b[0m\u001b[0;34m,\u001b[0m\u001b[0mnp\u001b[0m\u001b[0;34m.\u001b[0m\u001b[0muint8\u001b[0m\u001b[0;34m)\u001b[0m\u001b[0;34m\u001b[0m\u001b[0;34m\u001b[0m\u001b[0m\n\u001b[1;32m      3\u001b[0m \u001b[0mopening\u001b[0m \u001b[0;34m=\u001b[0m \u001b[0mcv2\u001b[0m\u001b[0;34m.\u001b[0m\u001b[0mmorphologyEx\u001b[0m\u001b[0;34m(\u001b[0m\u001b[0mimg\u001b[0m\u001b[0;34m,\u001b[0m \u001b[0mcv2\u001b[0m\u001b[0;34m.\u001b[0m\u001b[0mMORPH_OPEN\u001b[0m\u001b[0;34m,\u001b[0m \u001b[0mkernel\u001b[0m\u001b[0;34m)\u001b[0m\u001b[0;34m\u001b[0m\u001b[0;34m\u001b[0m\u001b[0m\n\u001b[1;32m      4\u001b[0m \u001b[0mdst\u001b[0m     \u001b[0;34m=\u001b[0m \u001b[0mcv2\u001b[0m\u001b[0;34m.\u001b[0m\u001b[0mmorphologyEx\u001b[0m\u001b[0;34m(\u001b[0m\u001b[0mopening\u001b[0m\u001b[0;34m,\u001b[0m \u001b[0mcv2\u001b[0m\u001b[0;34m.\u001b[0m\u001b[0mMORPH_CLOSE\u001b[0m\u001b[0;34m,\u001b[0m \u001b[0mkernel\u001b[0m\u001b[0;34m)\u001b[0m\u001b[0;34m\u001b[0m\u001b[0;34m\u001b[0m\u001b[0m\n\u001b[1;32m      5\u001b[0m \u001b[0;34m\u001b[0m\u001b[0m\n",
      "\u001b[0;31mNameError\u001b[0m: name 'cv2' is not defined"
     ]
    }
   ],
   "source": [
    "img = cv2.imread('session_8/test.png',0)\n",
    "kernel = np.ones((7,7),np.uint8)\n",
    "opening = cv2.morphologyEx(img, cv2.MORPH_OPEN, kernel)\n",
    "dst     = cv2.morphologyEx(opening, cv2.MORPH_CLOSE, kernel)\n",
    "\n",
    "\n",
    "figure(figsize=(6, 6), dpi=80)\n",
    "plt.subplot(2,1,1),plt.imshow(img,cmap = 'gray')\n",
    "plt.title(f'Original Image '), plt.xticks([]), plt.yticks([])\n",
    "plt.subplot(2,1,2),plt.imshow(dst,cmap = 'gray')\n",
    "plt.title('Denoised with morphologyEx opening and closing'), plt.xticks([]), plt.yticks([])\n",
    "plt.show()"
   ]
  },
  {
   "cell_type": "code",
   "execution_count": 54,
   "id": "resistant-shade",
   "metadata": {},
   "outputs": [
    {
     "data": {
      "image/png": "[encoded data removed]",
      "text/plain": [
       "<Figure size 480x480 with 2 Axes>"
      ]
     },
     "metadata": {},
     "output_type": "display_data"
    }
   ],
   "source": [
    "kernel = np.ones((10,10),np.uint8)\n",
    "kernel[0,0]=kernel[9,0]=kernel[0,9]=kernel[9,9]=0\n",
    "\n",
    "img = cv2.imread('session_8/art3.jpg',0)\n",
    "dst2 = cv2.morphologyEx(img, cv2.MORPH_OPEN, kernel, iterations=1)\n",
    "\n",
    "figure(figsize=(6, 6), dpi=80)\n",
    "plt.subplot(2,1,1),plt.imshow(img,cmap = 'gray')\n",
    "plt.title(f'Original Image '), plt.xticks([]), plt.yticks([])\n",
    "plt.subplot(2,1,2),plt.imshow(dst2,cmap = 'gray')\n",
    "plt.title('Denoised with morphologyEx opening'), plt.xticks([]), plt.yticks([])\n",
    "plt.show()"
   ]
  },
  {
   "cell_type": "code",
   "execution_count": null,
   "id": "cross-indication",
   "metadata": {},
   "outputs": [],
   "source": [
    "img = cv2.imread('test.png',0)\n",
    "cv2.imshow('img',img)\n",
    "kernel = np.ones((7,7),np.uint8)\n",
    "\n",
    "opening = cv2.morphologyEx(img, cv2.MORPH_OPEN, kernel)\n",
    "dst     = cv2.morphologyEx(opening, cv2.MORPH_CLOSE, kernel)\n",
    "\n",
    "cv2.imshow('dst',dst)\n",
    "\n",
    "img2 = cv2.imread('art3.jpg',0)\n",
    "cv2.imshow('img2',img2)\n",
    "kernel = np.ones((10,10),np.uint8)\n",
    "kernel[0,0]=kernel[9,0]=kernel[0,9]=kernel[9,9]=0\n",
    "\n",
    "dst2 = cv2.morphologyEx(img2, cv2.MORPH_OPEN, kernel)\n",
    "\n",
    "\n",
    "cv2.imshow('dst2',dst2)\n"
   ]
  }
 ],
 "metadata": {
  "kernelspec": {
   "display_name": "Python 3",
   "language": "python",
   "name": "python3"
  },
  "language_info": {
   "codemirror_mode": {
    "name": "ipython",
    "version": 3
   },
   "file_extension": ".py",
   "mimetype": "text/x-python",
   "name": "python",
   "nbconvert_exporter": "python",
   "pygments_lexer": "ipython3",
   "version": "3.8.5"
  }
 },
 "nbformat": 4,
 "nbformat_minor": 5
}