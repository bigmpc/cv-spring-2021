{
 "cells": [
  {
   "cell_type": "markdown",
   "id": "opposite-comment",
   "metadata": {},
   "source": [
    "# topics:\n",
    "\n",
    "- [anaconda env](https://docs.conda.io/projects/conda/en/latest/user-guide/tasks/manage-environments.html)\n",
    "    - create anaconda env\n",
    "    - activate anaconda env\n",
    "- import cv2\n",
    "    - [install opencv with pip](https://pypi.org/project/opencv-python/)\n",
    "- read image file\n",
    "    - [doc](https://opencv-python-tutroals.readthedocs.io/en/latest/py_tutorials/py_gui/py_image_display/py_image_display.html)\n",
    "- show variable's value in Spyder IDE    \n",
    "- show image in window with opencv\n",
    "- save image with opencv\n",
    "- solve qustion 1 : **Read Image and show it in Windows when user press 's' save it in 'messigray.png' file  if  press 'ESC' exit**\n",
    "- Get webcam as inut and render in opencv window\n",
    "- resize image\n",
    "    - fixed size\n",
    "    - relative size\n",
    "- flip image"
   ]
  },
  {
   "cell_type": "code",
   "execution_count": 1,
   "id": "legitimate-citation",
   "metadata": {},
   "outputs": [],
   "source": [
    "import cv2"
   ]
  },
  {
   "cell_type": "markdown",
   "id": "provincial-mongolia",
   "metadata": {},
   "source": [
    "## Read image file in opencv\n",
    "![session_1](session_1/fish.jpeg)\n",
    "\n",
    "from `session_1/fish.jpeg`"
   ]
  },
  {
   "cell_type": "code",
   "execution_count": 6,
   "id": "lucky-passing",
   "metadata": {},
   "outputs": [],
   "source": [
    "# read image\n",
    "file_name = 'session_1/fish.jpeg'\n",
    "img = cv2.imread(file_name)"
   ]
  },
  {
   "cell_type": "markdown",
   "id": "pursuant-carter",
   "metadata": {},
   "source": [
    "## open with window\n",
    "![session_1](session_1/cv_window.png)\n"
   ]
  },
  {
   "cell_type": "code",
   "execution_count": 9,
   "id": "generic-prescription",
   "metadata": {},
   "outputs": [],
   "source": [
    "# create window and show it\n",
    "cv2.imshow('image',img)\n",
    "# wait unitl user enter some key when window selected\n",
    "cv2.waitKey(0) # get time if set 0 then wait until press key\n",
    "# close all windows\n",
    "cv2.destroyAllWindows()"
   ]
  },
  {
   "cell_type": "markdown",
   "id": "sufficient-slope",
   "metadata": {},
   "source": [
    "# save image with `cv2.imwrite(file_path, img)`\n",
    "- change ext\n",
    "- save changed image"
   ]
  },
  {
   "cell_type": "code",
   "execution_count": 13,
   "id": "boolean-nutrition",
   "metadata": {},
   "outputs": [
    {
     "data": {
      "text/plain": [
       "True"
      ]
     },
     "execution_count": 13,
     "metadata": {},
     "output_type": "execute_result"
    }
   ],
   "source": [
    "cv2.imwrite('saved_image.png',img)"
   ]
  },
  {
   "cell_type": "code",
   "execution_count": 14,
   "id": "architectural-short",
   "metadata": {},
   "outputs": [
    {
     "name": "stdout",
     "output_type": "stream",
     "text": [
      "README.md  \u001b[0m\u001b[01;35msaved_image.png\u001b[0m  \u001b[01;34msession_1\u001b[0m/  session_1.ipynb  \u001b[01;35mvideo.mp4\u001b[0m\r\n"
     ]
    }
   ],
   "source": [
    "%ls"
   ]
  },
  {
   "cell_type": "markdown",
   "id": "smooth-trunk",
   "metadata": {},
   "source": [
    "# read other image\n",
    "![session_1](session_1/opencv.jpeg)\n",
    "\n",
    "from `session_1/opencv.jpeg`\n"
   ]
  },
  {
   "cell_type": "code",
   "execution_count": 17,
   "id": "lined-domain",
   "metadata": {},
   "outputs": [],
   "source": [
    "file_name = 'session_1/opencv.jpeg'\n",
    "img = cv2.imread(file_name)\n",
    "cv2.imshow('image',img)\n",
    "cv2.waitKey(0)\n",
    "cv2.destroyAllWindows()"
   ]
  },
  {
   "cell_type": "markdown",
   "id": "classical-double",
   "metadata": {},
   "source": [
    "# question\n",
    "![session_1](session_1/question_1.png)\n",
    "\n",
    "### ord(str) function : convert entered char to ASCI code\n",
    "like:\n",
    "```python\n",
    "\n",
    ">> ord('s')\n",
    "115\n",
    "```\n",
    "\n",
    "\n",
    "\n",
    "### chr(int) function : convert entered ACSI to char\n",
    "like:\n",
    "```python\n",
    "\n",
    ">> chr(27)\n",
    "'\\x1b'\n",
    "```"
   ]
  },
  {
   "cell_type": "code",
   "execution_count": null,
   "id": "rough-dining",
   "metadata": {},
   "outputs": [],
   "source": [
    "def question_1(file_path: str ) -> None:\n",
    "    \"\"\" Read Image and show it in Windows when user press 's' save it in 'messigray.png' file \n",
    "        if  press 'ESC' exit\n",
    "        \n",
    "        Parameters\n",
    "        ----------\n",
    "        file_path : str\n",
    "            image file path\n",
    "    \n",
    "    \"\"\"\n",
    "    img = cv2.imread(file_path, 0) # zero for grayscale read\n",
    "    cv2.imshow('image',img)\n",
    "    entered_key = cv2.waitKey(0)\n",
    "    \n",
    "    if entered_key == ord('\\x1b'):\n",
    "        cv2.destroyAllWindows()\n",
    "        \n",
    "    elif entered_key == ord('s') :\n",
    "        cv2.imwrite('messigray.png',img)\n",
    "        cv2.destroyAllWindows()\n",
    "        \n",
    "     cv2.destroyAllWindows()\n",
    "        \n",
    "file_path = 'session_1/fish.jpeg'\n",
    "\n",
    "question_1(file_path)"
   ]
  },
  {
   "cell_type": "markdown",
   "id": "demanding-potential",
   "metadata": {},
   "source": [
    "# input webcam into \n",
    "\n",
    "![show_webcam.png](session_1/show_webcam.png)\n"
   ]
  },
  {
   "cell_type": "code",
   "execution_count": 4,
   "id": "reliable-expression",
   "metadata": {},
   "outputs": [],
   "source": [
    "import cv2\n",
    "# get webcam with id 0 (in my case I have 2 webcam)\n",
    "cap = cv2.VideoCapture(0)\n",
    "\n",
    "\n",
    "\n",
    "while True:\n",
    "    # Capture frame-by-frame\n",
    "    ret, frame = cap.read()\n",
    "\n",
    "    if not ret:\n",
    "        break\n",
    "    else: \n",
    "        # show each frame in window\n",
    "        cv2.imshow(\"frame\", frame)\n",
    "        \n",
    "    # if user entered any key break while \n",
    "    entered_key = cv2.waitKey(5)\n",
    "    if entered_key > 0:\n",
    "        break\n",
    "        \n",
    "# after while close webcam and opencv window  \n",
    "cap.release()\n",
    "cv2.destroyAllWindows()"
   ]
  },
  {
   "cell_type": "markdown",
   "id": "medieval-distributor",
   "metadata": {},
   "source": [
    "# read video with `cv2.VideoCapture()` function\n",
    "**read from webcam or from video file**\n",
    "\n",
    "`cv2.VideoCapture(webcam_id : int)` or `cv2.VideoCapture(file_path : str)`\n",
    "\n",
    "\n",
    "# save (write video) with cv2.VideoWriter()\n",
    "\n",
    "\n",
    "#### practice:\n",
    "***Get Your video and save it in your system***\n",
    "\n",
    "#### practice Solve:"
   ]
  },
  {
   "cell_type": "code",
   "execution_count": 5,
   "id": "surprising-request",
   "metadata": {},
   "outputs": [],
   "source": [
    "# Edit Image"
   ]
  },
  {
   "cell_type": "code",
   "execution_count": 16,
   "id": "biological-talent",
   "metadata": {},
   "outputs": [
    {
     "data": {
      "text/plain": [
       "(184, 150)"
      ]
     },
     "execution_count": 16,
     "metadata": {},
     "output_type": "execute_result"
    }
   ],
   "source": [
    "file_name = 'session_1/opencv.jpeg'\n",
    "img = cv2.imread(file_name,0)\n",
    "# get image shape\n",
    "\n",
    "img.shape"
   ]
  },
  {
   "cell_type": "code",
   "execution_count": 10,
   "id": "historic-proof",
   "metadata": {},
   "outputs": [
    {
     "data": {
      "text/plain": [
       "dtype('uint8')"
      ]
     },
     "execution_count": 10,
     "metadata": {},
     "output_type": "execute_result"
    }
   ],
   "source": [
    "img.dtype"
   ]
  },
  {
   "cell_type": "markdown",
   "id": "photographic-cooking",
   "metadata": {},
   "source": [
    "## resize function"
   ]
  },
  {
   "cell_type": "code",
   "execution_count": null,
   "id": "entertaining-disclaimer",
   "metadata": {},
   "outputs": [],
   "source": [
    "# resize with fixed size\n",
    "resized_image = cv2.resize(img, (552, 450))\n",
    "cv2.imshow('image',resized_image)\n",
    "cv2.waitKey(0)\n",
    "cv2.destroyAllWindows()"
   ]
  },
  {
   "cell_type": "code",
   "execution_count": null,
   "id": "fluid-photograph",
   "metadata": {},
   "outputs": [],
   "source": [
    "import cv2\n",
    "# resize with relative size \n",
    "file_name = 'session_1/fish.jpeg'\n",
    "img = cv2.imread(file_name)\n",
    "# witdt * 0.25  and height * 0.5\n",
    "resized_image = cv2.resize(img, (0, 0) ,None, 0.25, 0.5)\n",
    "cv2.imshow('image',resized_image)\n",
    "cv2.waitKey(0)\n",
    "cv2.destroyAllWindows()"
   ]
  },
  {
   "cell_type": "markdown",
   "id": "sufficient-standard",
   "metadata": {},
   "source": [
    "# Use Numpy\n"
   ]
  },
  {
   "cell_type": "code",
   "execution_count": null,
   "id": "proved-oasis",
   "metadata": {},
   "outputs": [],
   "source": [
    "import numpy as np"
   ]
  },
  {
   "cell_type": "markdown",
   "id": "narrow-bathroom",
   "metadata": {},
   "source": [
    "# flip image\n",
    "\n",
    "![cv2_flip.png](session_1/cv2_flip.png)\n"
   ]
  }
 ],
 "metadata": {
  "kernelspec": {
   "display_name": "Python 3",
   "language": "python",
   "name": "python3"
  },
  "language_info": {
   "codemirror_mode": {
    "name": "ipython",
    "version": 3
   },
   "file_extension": ".py",
   "mimetype": "text/x-python",
   "name": "python",
   "nbconvert_exporter": "python",
   "pygments_lexer": "ipython3",
   "version": "3.8.5"
  }
 },
 "nbformat": 4,
 "nbformat_minor": 5
}
