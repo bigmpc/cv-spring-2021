{
 "cells": [
  {
   "cell_type": "markdown",
   "id": "sacred-shield",
   "metadata": {},
   "source": [
    "# topics:\n",
    "- [cv2.morphologyEx](#cv2.morphologyEx)\n",
    "  \n",
    "    - [Morphological Transformations docs](https://opencv-python-tutroals.readthedocs.io/en/latest/py_tutorials/py_imgproc/py_morphological_ops/py_morphological_ops.html)\n",
    " - [huang transform]\n",
    "\n",
    "\n",
    "----\n",
    "slide 4\n"
   ]
  },
  {
   "cell_type": "code",
   "execution_count": 1,
   "id": "aggregate-internet",
   "metadata": {},
   "outputs": [],
   "source": [
    "import cv2  \n",
    "import numpy as np\n",
    "import matplotlib.pyplot as plt\n",
    "from matplotlib.pyplot import figure"
   ]
  },
  {
   "cell_type": "code",
   "execution_count": null,
   "id": "monthly-incident",
   "metadata": {},
   "outputs": [],
   "source": []
  },
  {
   "cell_type": "code",
   "execution_count": 7,
   "id": "egyptian-sally",
   "metadata": {},
   "outputs": [
    {
     "data": {
      "image/png": "[encoded data removed]",
      "text/plain": [
       "<Figure size 480x480 with 3 Axes>"
      ]
     },
     "metadata": {},
     "output_type": "display_data"
    }
   ],
   "source": [
    "img = cv2.imread('session_9/j.png',0)\n",
    "kernel = np.ones((7,7),np.uint8)\n",
    "opening = cv2.morphologyEx(img, cv2.MORPH_OPEN, kernel)\n",
    "closing     = cv2.morphologyEx(opening, cv2.MORPH_CLOSE, kernel)\n",
    "\n",
    "\n",
    "figure(figsize=(6, 6), dpi=80)\n",
    "plt.subplot(1,3,1),plt.imshow(img,cmap = 'gray')\n",
    "plt.title(f'Opening Image '), plt.xticks([]), plt.yticks([])\n",
    "plt.subplot(1,3,2),plt.imshow(opening,cmap = 'gray')\n",
    "plt.title(f'Original Image '), plt.xticks([]), plt.yticks([])\n",
    "plt.subplot(1,3,3),plt.imshow(closing,cmap = 'gray')\n",
    "plt.title('Opening and closing'), plt.xticks([]), plt.yticks([])\n",
    "plt.show()"
   ]
  },
  {
   "cell_type": "code",
   "execution_count": null,
   "id": "clinical-valuable",
   "metadata": {},
   "outputs": [],
   "source": []
  },
  {
   "cell_type": "code",
   "execution_count": null,
   "id": "expensive-seafood",
   "metadata": {},
   "outputs": [],
   "source": []
  },
  {
   "cell_type": "code",
   "execution_count": 11,
   "id": "insured-joseph",
   "metadata": {},
   "outputs": [],
   "source": [
    "import cv2\n",
    "import numpy as np\n",
    "\n",
    "\n",
    "cap = cv2.VideoCapture(2)\n",
    "\n",
    "# initialize a black canvas\n",
    "screen = np.zeros((600, 1000))\n",
    "\n",
    "\n",
    "# use this to capture a histogram\n",
    "while True:\n",
    "    _, frame = cap.read()\n",
    "    frame = cv2.flip(frame, 1)\n",
    "    frame = cv2.resize(frame, (1000, 600))\n",
    "\n",
    "    font = cv2.FONT_HERSHEY_SIMPLEX\n",
    "    cv2.putText(frame, 'Place region of interest inside box & press `A`',(5, 50), font, 0.7, (255, 255, 255), 2, cv2.LINE_AA)\n",
    "    cv2.rectangle(frame, (500, 100), (700, 300), (105, 105, 105), 2)\n",
    "    box = frame[105:175, 505:575]\n",
    "\n",
    "    cv2.imshow(\"Capture Histogram\", frame)\n",
    "    key = cv2.waitKey(10)\n",
    "    if key == ord('a'):\n",
    "        object_color = box\n",
    "        cv2.destroyAllWindows()\n",
    "        break\n",
    "    if key == ord('q'):\n",
    "        cv2.destroyAllWindows()\n",
    "        cap.release()\n",
    "        break\n",
    "\n",
    "object_color_hsv = cv2.cvtColor(object_color, cv2.COLOR_BGR2HSV)\n",
    "object_hist      = cv2.calcHist([object_color_hsv], [0, 1], None,[180, 256], [0, 180, 0, 256])\n",
    "\n",
    "cv2.normalize(object_hist, object_hist, 0, 255, cv2.NORM_MINMAX)\n",
    "\n",
    "\n",
    "# detect histogram\n",
    "while True:\n",
    "    ret, frame = cap.read()\n",
    "    if not ret:\n",
    "        break\n",
    "\n",
    "    # flip and resize the image.\n",
    "    frame = cv2.flip(frame, 1)\n",
    "    # Use a resolution best suited for your camera.\n",
    "    frame = cv2.resize(frame, (1000, 600))\n",
    "\n",
    "    \n",
    "\n",
    "    hsv_frame = cv2.cvtColor(frame, cv2.COLOR_BGR2HSV)\n",
    "\n",
    "    # apply back projection to image using object_hist as\n",
    "    # the model histogram\n",
    "    object_segment = cv2.calcBackProject([hsv_frame], [0, 1], object_hist, [0, 180, 0, 256], 1)\n",
    "    cv2.imshow(\"\", object_segment)\n",
    "    _, segment_thresh = cv2.threshold(object_segment, 20, 255, cv2.THRESH_BINARY)\n",
    "    \n",
    "\n",
    "    # apply some image operations to enhance image\n",
    "    kernel = None\n",
    "    disc = cv2.getStructuringElement(cv2.MORPH_ELLIPSE, (15, 15))\n",
    "    filtered = cv2.filter2D(segment_thresh, -1, disc)\n",
    "\n",
    "    eroded = cv2.erode(filtered, kernel, iterations=2)\n",
    "    dilated = cv2.dilate(eroded, kernel, iterations=2)\n",
    "    closing = cv2.morphologyEx(dilated, cv2.MORPH_CLOSE, kernel)\n",
    "    cv2.imshow(\"closing\", closing)\n",
    "\n",
    "    # masking\n",
    "    masked = cv2.bitwise_and(frame, frame, mask=closing)\n",
    "\n",
    "    cv2.imshow(\"Hand Detector\", frame)\n",
    "\n",
    "    k = cv2.waitKey(5)\n",
    "    if k == ord('q'):\n",
    "        break\n",
    "\n",
    "cap.release()\n",
    "cv2.destroyAllWindows()"
   ]
  }
 ],
 "metadata": {
  "kernelspec": {
   "display_name": "Python 3",
   "language": "python",
   "name": "python3"
  },
  "language_info": {
   "codemirror_mode": {
    "name": "ipython",
    "version": 3
   },
   "file_extension": ".py",
   "mimetype": "text/x-python",
   "name": "python",
   "nbconvert_exporter": "python",
   "pygments_lexer": "ipython3",
   "version": "3.8.5"
  }
 },
 "nbformat": 4,
 "nbformat_minor": 5
}