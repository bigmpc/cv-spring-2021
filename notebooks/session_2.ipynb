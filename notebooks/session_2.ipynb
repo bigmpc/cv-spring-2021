{
 "cells": [
  {
   "cell_type": "markdown",
   "id": "random-seminar",
   "metadata": {},
   "source": [
    "# topics:\n",
    "\n",
    "- Qustion 1: add two image\n",
    "    - [concat them with `cv2.vconcat()` and `cv2.hconcat()`](##concat-theme-with:)\n",
    "    - [add with `cv2.add()` function](#add-two-image-with-cv.add())\n",
    "- [Add Two image with different size](#Add-Two-image-with-different-size)\n",
    "- [Add two image with different transparency](#add-two-image-with-different-transparency)\n",
    "- [Other image opration in OpenCV](#other-image-opration)\n",
    "- **[Qustion 2 : Add image to Top Left of other image](#Qustion-2-:-Add-image-to-Top-Left-of-other-image)**\n",
    "\n",
    "- [Add Rain Effect in to your webcam Stream](#Add-Rain-Effect-in-to-your-webcam-Stream)"
   ]
  },
  {
   "cell_type": "code",
   "execution_count": 1,
   "id": "medieval-firewall",
   "metadata": {},
   "outputs": [],
   "source": [
    "import cv2\n",
    "import numpy as np"
   ]
  },
  {
   "cell_type": "markdown",
   "id": "moved-revision",
   "metadata": {},
   "source": [
    "# qustion 1\n",
    "![session_2/practice_1.png](session_2/practice_1.png)\n",
    "\n",
    "---\n",
    "\n",
    "## concat theme with:\n",
    "![session_2/](session_2/concat_images.png)\n",
    "To stack vertically (img1 over img2):\n",
    "```python\n",
    "v_img = cv2.vconcat([img_1, img_2])\n",
    "```\n",
    "\n",
    "To stack horizontally (img1 to the left of img2):\n",
    "```python\n",
    "h_img = cv2.hconcat([img_1, img_2])\n",
    "```\n",
    "**[more info](https://stackoverflow.com/questions/7589012/combining-two-images-with-opencv)**"
   ]
  },
  {
   "cell_type": "markdown",
   "id": "eligible-terror",
   "metadata": {},
   "source": [
    "**read image**"
   ]
  },
  {
   "cell_type": "code",
   "execution_count": 2,
   "id": "immune-ultimate",
   "metadata": {},
   "outputs": [],
   "source": [
    "file_1_name , file_2_name = 'session_2/fish.jpeg' , 'session_2/sample_imge.jpeg'\n",
    "img_1 = cv2.imread(file_1_name)\n",
    "img_2 = cv2.imread(file_2_name)"
   ]
  },
  {
   "cell_type": "markdown",
   "id": "separate-scene",
   "metadata": {},
   "source": [
    "**concat images**"
   ]
  },
  {
   "cell_type": "code",
   "execution_count": 10,
   "id": "diagnostic-insertion",
   "metadata": {},
   "outputs": [],
   "source": [
    "v_img = cv2.vconcat([img_1, img_1])\n",
    "h_img = cv2.hconcat([img_1, img_1])"
   ]
  },
  {
   "cell_type": "markdown",
   "id": "black-uncle",
   "metadata": {},
   "source": [
    "**show in 2 windows**"
   ]
  },
  {
   "cell_type": "code",
   "execution_count": null,
   "id": "convertible-heaven",
   "metadata": {},
   "outputs": [],
   "source": [
    "cv2.imshow('Horizontal', h_img)\n",
    "cv2.imshow('Vertical', v_img)\n",
    "cv2.waitKey(0)\n",
    "cv2.destroyAllWindows()"
   ]
  },
  {
   "cell_type": "markdown",
   "id": "lesbian-penalty",
   "metadata": {},
   "source": [
    "## add two image with `cv.add()`\n",
    "![session_2/](session_2/add_two_image.png)\n",
    "\n",
    "`cv2.add(src1, src2, dst, mask, dtype) → dst`"
   ]
  },
  {
   "cell_type": "code",
   "execution_count": 3,
   "id": "whole-cancellation",
   "metadata": {},
   "outputs": [],
   "source": [
    "new_image_added = cv2.add(img_1,img_2)"
   ]
  },
  {
   "cell_type": "code",
   "execution_count": 5,
   "id": "existing-chancellor",
   "metadata": {},
   "outputs": [],
   "source": [
    "cv2.imshow('new_image_added', new_image_added)\n",
    "cv2.waitKey(0)\n",
    "cv2.destroyAllWindows()"
   ]
  },
  {
   "cell_type": "markdown",
   "id": "minute-guidance",
   "metadata": {},
   "source": [
    "## Add Two image with different size\n",
    "**if two image not same size**\n",
    "\n",
    "![add_two_img_with_diffrent_size](session_2/add_two_img_with_diffrent_size.png)\n"
   ]
  },
  {
   "cell_type": "code",
   "execution_count": 13,
   "id": "normal-pattern",
   "metadata": {},
   "outputs": [],
   "source": [
    "file_1_name , file_2_name = 'session_2/fish.jpeg' , 'session_2/opencv.jpeg'\n",
    "img_1 = cv2.imread(file_1_name)\n",
    "img_2 = cv2.imread(file_2_name)"
   ]
  },
  {
   "cell_type": "code",
   "execution_count": null,
   "id": "reliable-seeker",
   "metadata": {},
   "outputs": [],
   "source": [
    "img_1.shape , img_2.shape"
   ]
  },
  {
   "cell_type": "markdown",
   "id": "backed-morning",
   "metadata": {},
   "source": [
    "**resize img_2 to get same size as img_1**"
   ]
  },
  {
   "cell_type": "code",
   "execution_count": 14,
   "id": "selective-forty",
   "metadata": {},
   "outputs": [],
   "source": [
    "new_img_2 = cv2.resize(img_2, img_1.shape[1::-1])"
   ]
  },
  {
   "cell_type": "code",
   "execution_count": 15,
   "id": "unlimited-brighton",
   "metadata": {},
   "outputs": [],
   "source": [
    "new_image_added = cv2.add(img_1,new_img_2)"
   ]
  },
  {
   "cell_type": "code",
   "execution_count": 20,
   "id": "excellent-clearance",
   "metadata": {},
   "outputs": [],
   "source": [
    "cv2.imshow('new_image_added', new_image_added)\n",
    "cv2.waitKey(0)\n",
    "cv2.destroyAllWindows()"
   ]
  },
  {
   "cell_type": "markdown",
   "id": "excited-mother",
   "metadata": {},
   "source": [
    "## add two image with different transparency\n",
    "### addWeighted\n",
    "•arithmetic operations on images like addition, subtraction, bitwise operations etc. \n",
    "\n",
    "![addWeighted_two_image.png](session_2/addWeighted_two_image.png)\n",
    "\n",
    "### other image opration\n",
    "![other_oprations_on_image.png](session_2/other_oprations_on_image.png)\n",
    "\n"
   ]
  },
  {
   "cell_type": "markdown",
   "id": "surgical-sense",
   "metadata": {},
   "source": [
    "## Qustion 2 : Add image to Top Left of other image\n",
    "\n",
    "![qustion_2.png](session_2/qustion_2.png)\n"
   ]
  },
  {
   "cell_type": "code",
   "execution_count": 2,
   "id": "reported-scene",
   "metadata": {},
   "outputs": [],
   "source": [
    "file_1_name , file_2_name = 'session_2/fish.jpeg' , 'session_2/opencv.jpeg'\n",
    "img_1 = cv2.imread(file_1_name)\n",
    "img_2 = cv2.imread(file_2_name)"
   ]
  },
  {
   "cell_type": "code",
   "execution_count": 6,
   "id": "informed-brother",
   "metadata": {
    "scrolled": true
   },
   "outputs": [
    {
     "data": {
      "text/plain": [
       "(88, 63)"
      ]
     },
     "execution_count": 6,
     "metadata": {},
     "output_type": "execute_result"
    }
   ],
   "source": [
    "w , h = img_1.shape[1::-1]\n",
    "w,h  = w//3 , h//3\n",
    "w,h "
   ]
  },
  {
   "cell_type": "code",
   "execution_count": 7,
   "id": "extended-album",
   "metadata": {},
   "outputs": [],
   "source": [
    "img_2_resized = cv2.resize(img_2, (w,h))\n",
    "img_1[:h, :w] =  img_2_resized"
   ]
  },
  {
   "cell_type": "code",
   "execution_count": 8,
   "id": "careful-convenience",
   "metadata": {},
   "outputs": [],
   "source": [
    "cv2.imshow('img_1 with image 2', img_1)\n",
    "cv2.waitKey(0)\n",
    "cv2.destroyAllWindows()"
   ]
  },
  {
   "cell_type": "markdown",
   "id": "consecutive-bradley",
   "metadata": {},
   "source": [
    "**other way: using MASK**"
   ]
  },
  {
   "cell_type": "code",
   "execution_count": null,
   "id": "artistic-weight",
   "metadata": {},
   "outputs": [],
   "source": [
    "# using mask to add two image\n",
    "# Load two images\n",
    "img1 = cv2.imread('messi5.jpg')\n",
    "img2 = cv2.imread('opencv_logo.png')\n",
    "\n",
    "# I want to put logo on top-left corner, So I create a ROI\n",
    "rows,cols,channels = img2.shape\n",
    "roi = img1[0:rows, 0:cols ]\n",
    "\n",
    "# Now create a mask of logo and create its inverse mask also\n",
    "img2gray = cv2.cvtColor(img2,cv2.COLOR_BGR2GRAY)\n",
    "ret, mask = cv2.threshold(img2gray, 10, 255, cv2.THRESH_BINARY)\n",
    "mask_inv = cv2.bitwise_not(mask)\n",
    "\n",
    "# Now black-out the area of logo in ROI\n",
    "img1_bg = cv2.bitwise_and(roi,roi,mask = mask_inv)\n",
    "\n",
    "# Take only region of logo from logo image.\n",
    "img2_fg = cv2.bitwise_and(img2,img2,mask = mask)\n",
    "\n",
    "# Put logo in ROI and modify the main image\n",
    "dst = cv2.add(img1_bg,img2_fg)\n",
    "img1[0:rows, 0:cols ] = dst\n",
    "\n",
    "cv2.imshow('res',img1)\n",
    "cv2.waitKey(0)\n",
    "cv2.destroyAllWindows()"
   ]
  },
  {
   "cell_type": "markdown",
   "id": "wrong-award",
   "metadata": {},
   "source": [
    "# Add Rain Effect in to your webcam Stream\n",
    "![add_rain_to_webcam.png](session_2/add_rain_to_webcam.png)\n"
   ]
  },
  {
   "cell_type": "code",
   "execution_count": 1,
   "id": "assured-promise",
   "metadata": {},
   "outputs": [],
   "source": [
    "import cv2\n",
    "# get webcam with id 0 (in my case I have 2 webcam)\n",
    "cap_webcam = cv2.VideoCapture(0)\n",
    "cap_stream = cv2.VideoCapture('session_2/rain.mp4')\n",
    "\n",
    "\n",
    "\n",
    "while True:\n",
    "    # Capture frame-by-frame\n",
    "    ret_webcam, frame_webcam = cap_webcam.read()\n",
    "    ret_stream, frame_stream = cap_stream.read()\n",
    "    frame_stream_resized = cv2.resize(frame_stream, frame_webcam.shape[1::-1])\n",
    "    if not ret_webcam or not ret_stream:\n",
    "        break\n",
    "    else: \n",
    "        # show each frame in window\n",
    "        cv2.imshow(\"frame\", cv2.add(frame_webcam,frame_stream_resized))\n",
    "        \n",
    "    # if user entered any key break while \n",
    "    entered_key = cv2.waitKey(5)\n",
    "    if entered_key > 0:\n",
    "        break\n",
    "        \n",
    "# after while close webcam and opencv window  \n",
    "cap_stream.release()\n",
    "cap_webcam.release()\n",
    "cv2.destroyAllWindows()"
   ]
  }
 ],
 "metadata": {
  "kernelspec": {
   "display_name": "Python 3",
   "language": "python",
   "name": "python3"
  },
  "language_info": {
   "codemirror_mode": {
    "name": "ipython",
    "version": 3
   },
   "file_extension": ".py",
   "mimetype": "text/x-python",
   "name": "python",
   "nbconvert_exporter": "python",
   "pygments_lexer": "ipython3",
   "version": "3.6.9"
  }
 },
 "nbformat": 4,
 "nbformat_minor": 5
}